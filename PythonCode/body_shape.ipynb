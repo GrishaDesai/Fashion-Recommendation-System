{
 "cells": [
  {
   "cell_type": "code",
   "execution_count": 6,
   "metadata": {},
   "outputs": [],
   "source": [
    "import pandas as pd"
   ]
  },
  {
   "cell_type": "code",
   "execution_count": 2,
   "metadata": {},
   "outputs": [],
   "source": [
    "data = []"
   ]
  },
  {
   "cell_type": "code",
   "execution_count": 3,
   "metadata": {},
   "outputs": [],
   "source": [
    "data.append({'Name': 'Hourglass', \n",
    "             'Image':'https://cdn.prod.website-files.com/5eca30fd2b50b671e2107b06/60f12a025285e1675eb6871b_Hourglass%20Body%20Shape%20Title%20Image.png',\n",
    "             'Description': 'The hourglass body shape characterised by hip and bust measurements nearly equal in size, with a narrower waist measurement. This makes the body appear like an hourglass shape.',\n",
    "             'Recommedations' : [\n",
    "                 {'name': 'Wrap Dress', 'description': 'Highlights your curves and defines the waist.'},\n",
    "                 {'name':'Fitted Blazer & Pencil Skirt', 'description': 'Enhances your natural proportions while maintaining a sleek look.'},\n",
    "                 {'name':'Belted Jumpsuit', 'description': 'Accentuates the waist and flatters your figure.'},\n",
    "                 {'name':'V-neck Tops & High-waisted Pants', 'description': 'Elongates your body and keeps proportions balanced.'}\n",
    "             ]\n",
    "             })\n",
    "data.append({'Name': 'Rectangle',\n",
    "             'Image': 'https://i.pinimg.com/236x/be/9d/80/be9d8006c0c6c3e27635119699404cbc.jpg',\n",
    "             'Description': 'A rectangle body shape is characterized by balanced proportiona with minimal curves and a less defined waist.',\n",
    "             'Recommedations': [\n",
    "                 {'name': 'Fitted top & A-line Skirt', 'description': 'It emphasises your waist and adds volume to your hips.'},\n",
    "                 {'name': 'High-waisted Pants & tucked-in Blouse', 'description': 'It creates an illusion to elongate your legs and defines your waist.'},\n",
    "                 {'name': 'Empire waist Dress', 'description': 'It accentuates your bust and creates a flowing, feminine look.'},\n",
    "                 {'name': 'Peplum top & Skinny Jeans', 'description': 'It adds volume to your hips, creating a more balanced look.'}\n",
    "             ]\n",
    "             })\n",
    "data.append({'Name': 'Inverted Triangle',\n",
    "             'Image': 'https://cdn.prod.website-files.com/5eca30fd2b50b671e2107b06/60c8c034466bd27ed87b2638_Inverted%20Triangle%20Body%20Shape%20Category%20Image.webp',\n",
    "             'Description': 'The inverted triangle body shape is characterised by broad shoulders and / or bust that narrow down to the hips. This makes the body appear like an inverted triangle shape.',\n",
    "             'Recommendations': [\n",
    "                {'name':'A-line Skirt & Fitted Top', 'description':'Adds volume to your lower body, balancing the upper part.'},\n",
    "                {'name':'Bootcut or Flared Jeans & Soft Blouse', 'description':' Creates symmetry by widening the lower half.'},\n",
    "                {'name':'Peplum Top & Skinny Jeans', 'description': 'Adds curves to your hips and softens the broad shoulders.'},\n",
    "                {'name':'V-neckline Dress', 'description': 'Draws attention downward and elongates the torso.'}\n",
    "            ]\n",
    "             })\n",
    "data.append({'Name': 'Pear',\n",
    "             'Image': 'https://cdn.prod.website-files.com/5eca30fd2b50b671e2107b06/60c8c0248738a135a50409e1_Pear%20Body%20Shape%20Category%20Image.webp',\n",
    "             'Description': 'The pear body shape is characterised by large hips which are wider than the bust and shoulders. This makes the body appear like a pear shape.',\n",
    "             'Recommedations': [\n",
    "                {'name':'Off-shoulder or Boatneck Tops & A-line Skirt', 'description':'Broadens the upper body while flattering the hips.'},\n",
    "                {'name':'Wrap Tops & Straight-leg Pants', 'description':'Defines the waist and balances proportions.'},\n",
    "                {'name':'Empire Waist Dress', 'description':'Flows over the hips, enhancing an elegant silhouette.'},\n",
    "                {'name':'Structured Jacket & Dark-colored Bottoms', 'description':'Adds structure to the upper body while slimming the lower part.'}\n",
    "            ]\n",
    "             })\n",
    "data.append({'Name': 'Apple',\n",
    "             'Image': 'https://cdn.prod.website-files.com/5eca30fd2b50b671e2107b06/60f12ec55285e1aca7b6a437_Apple%20Body%20Shape%20Title%20Image.webp',\n",
    "             'Description': 'Typical characteristics of the apple body shape are a large bust, narrow hips and a full midsection. This makes the body appear like an apple shape.',\n",
    "             'Recommedations': [\n",
    "                 {'name':'Empire Waist Dress', 'description':'Draws focus upward while creating a slimming effect.'},\n",
    "                 {'name':'V-neck Wrap Top & Straight-leg Pants', 'description':'Defines the bust while elongating the legs.'},\n",
    "                 {'name':'Long-line Cardigans & Tunic Tops', 'description':'Adds verticality to the look, making the torso appear longer.'},\n",
    "                 {'name':'High-waisted Jeans & Flowy Blouse', 'description': 'Smooths the midsection while highlighting the legs.'}\n",
    "             ]\n",
    "             })"
   ]
  },
  {
   "cell_type": "code",
   "execution_count": 7,
   "metadata": {},
   "outputs": [],
   "source": [
    "df = pd.DataFrame(data)"
   ]
  },
  {
   "cell_type": "code",
   "execution_count": 9,
   "metadata": {},
   "outputs": [],
   "source": [
    "df.to_csv('../Dataset/bodyShape.csv', index=False)"
   ]
  },
  {
   "cell_type": "code",
   "execution_count": null,
   "metadata": {},
   "outputs": [],
   "source": []
  }
 ],
 "metadata": {
  "kernelspec": {
   "display_name": "ml",
   "language": "python",
   "name": "python3"
  },
  "language_info": {
   "codemirror_mode": {
    "name": "ipython",
    "version": 3
   },
   "file_extension": ".py",
   "mimetype": "text/x-python",
   "name": "python",
   "nbconvert_exporter": "python",
   "pygments_lexer": "ipython3",
   "version": "3.11.11"
  }
 },
 "nbformat": 4,
 "nbformat_minor": 2
}
